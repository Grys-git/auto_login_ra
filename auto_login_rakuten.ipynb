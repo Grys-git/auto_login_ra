{
 "cells": [
  {
   "cell_type": "code",
   "execution_count": 1,
   "metadata": {},
   "outputs": [],
   "source": [
    "from selenium.webdriver.common.by import By\n",
    "from selenium import webdriver\n",
    "\n",
    "\n",
    "# webdriverはchromeのバージョンに適したものを使ってください\n",
    "driver = webdriver.Chrome()\n",
    "# 楽天証券のログインURL\n",
    "driver.get('https://www.rakuten-sec.co.jp/ITS/V_ACT_Login.html')\n",
    "driver.implicitly_wait(10)\n",
    "# HTML内のログイン情報の入力位置の取得\n",
    "login_id = driver.find_element(By.NAME,'loginid')\n",
    "password = driver.find_element(By.NAME,'passwd')\n",
    "# 入力タブのリセット\n",
    "login_id.clear()\n",
    "password.clear()\n",
    "\n",
    "# 入力\n",
    "login_id.send_keys('自身のログインID')\n",
    "password.send_keys('自身のパスワード')\n",
    "\n",
    "# ログインの実行\n",
    "login_id.submit()\n",
    "\n",
    "# quit\n",
    "#driver.quit()"
   ]
  }
 ],
 "metadata": {
  "kernelspec": {
   "display_name": "Python 3",
   "language": "python",
   "name": "python3"
  },
  "language_info": {
   "codemirror_mode": {
    "name": "ipython",
    "version": 3
   },
   "file_extension": ".py",
   "mimetype": "text/x-python",
   "name": "python",
   "nbconvert_exporter": "python",
   "pygments_lexer": "ipython3",
   "version": "3.10.11"
  }
 },
 "nbformat": 4,
 "nbformat_minor": 2
}
